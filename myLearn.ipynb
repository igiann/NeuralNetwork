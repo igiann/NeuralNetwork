{
 "cells": [
  {
   "cell_type": "code",
   "execution_count": 4,
   "metadata": {},
   "outputs": [
    {
     "name": "stdout",
     "output_type": "stream",
     "text": [
      "0.3333333333413079\n"
     ]
    },
    {
     "data": {
      "image/png": "[encoded data removed]",
      "text/plain": [
       "<Figure size 432x288 with 1 Axes>"
      ]
     },
     "metadata": {
      "needs_background": "light"
     },
     "output_type": "display_data"
    }
   ],
   "source": [
    "import numpy as np\n",
    "import matplotlib.pyplot as plt\n",
    "x = 1.5\n",
    "w = 0.8\n",
    "y = 1/(1+np.exp(-0.5))\n",
    "r = 0.1\n",
    "c = np.zeros(1000)\n",
    "for i in range(len(c)):\n",
    "    o_temp = w*x\n",
    "    o = 1/(1+np.exp(-o_temp))\n",
    "    w-= r*2*(o-y)*x*o*(1-o)\n",
    "    c[i] = (o-y)**2\n",
    "print(w)\n",
    "\n",
    "plt.plot(c)\n",
    "plt.show()"
   ]
  },
  {
   "attachments": {},
   "cell_type": "markdown",
   "metadata": {},
   "source": [
    "import numpy as np\n",
    "import matplotlib.pyplot as plt\n",
    "x = 1.5\n",
    "w = 0.8\n",
    "y = 1/(1+np.exp(-0.5))\n",
    "r = 0.1\n",
    "c = np.zeros(1000)\n",
    "for i in range(len(c)):\n",
    "    o_temp = w*x\n",
    "    o = 1/(1+np.exp(-o_temp))\n",
    "    w-= r*2*(o-y)*x*o\n",
    "    c[i] = (o-y)**2\n",
    "print(w)\n",
    "\n",
    "plt.plot(c)\n",
    "plt.show()"
   ]
  },
  {
   "attachments": {},
   "cell_type": "markdown",
   "metadata": {},
   "source": [
    "Μετά από κάθε πράξη η έξοδος πρεπει να είναι της ίδιας μορφής με την είσοδο"
   ]
  },
  {
   "cell_type": "code",
   "execution_count": 63,
   "metadata": {},
   "outputs": [
    {
     "name": "stdout",
     "output_type": "stream",
     "text": [
      "[[0.27232597]\n",
      " [0.87299836]]\n",
      "[[0.00084337]\n",
      " [0.00713383]]\n"
     ]
    }
   ],
   "source": [
    "x  = np.array([[0.35,0.9]])\n",
    "wh = np.array([[0.1,0.4],[0.8,0.6]])\n",
    "wo = np.array([[0.3],[0.9]])\n",
    "y = 0.5\n",
    "\n",
    "h_temp  = x @ wh\n",
    "h = 1/(1+np.exp(-h_temp))\n",
    "\n",
    "o_temp  = h@wo\n",
    "o = 1/(1+np.exp(-o_temp))\n",
    "\n",
    "wo-= (o-y)*o*(1-o)*h.T\n",
    "wh = (o-y)*o*(1-o)*h.T\n",
    "print(wo)\n",
    "print(wh)\n"
   ]
  }
 ],
 "metadata": {
  "kernelspec": {
   "display_name": "Python 3",
   "language": "python",
   "name": "python3"
  },
  "language_info": {
   "codemirror_mode": {
    "name": "ipython",
    "version": 3
   },
   "file_extension": ".py",
   "mimetype": "text/x-python",
   "name": "python",
   "nbconvert_exporter": "python",
   "pygments_lexer": "ipython3",
   "version": "3.10.6"
  },
  "orig_nbformat": 4
 },
 "nbformat": 4,
 "nbformat_minor": 2
}
