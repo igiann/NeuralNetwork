{
 "cells": [
  {
   "cell_type": "code",
   "execution_count": 2,
   "id": "a356b2f6-d4cd-4092-9842-3f908738e481",
   "metadata": {},
   "outputs": [],
   "source": [
    "import numpy as np\n",
    "import time\n",
    "import matplotlib.pyplot as plt"
   ]
  },
  {
   "cell_type": "code",
   "execution_count": null,
   "id": "6a831834",
   "metadata": {},
   "outputs": [],
   "source": []
  },
  {
   "cell_type": "code",
   "execution_count": 3,
   "id": "b3845335-1312-4eaa-9a80-a4c7e093406d",
   "metadata": {},
   "outputs": [],
   "source": [
    "from mnist import MNIST\n",
    "mndata = MNIST('./data')\n",
    "images, labels = mndata.load_training()\n",
    "images = np.array(images)\n",
    "images = images.astype(\"float32\") / 255\n",
    "labels = np.eye(10)[labels]\n",
    "\n",
    "[n,m] = images.shape"
   ]
  },
  {
   "cell_type": "code",
   "execution_count": 4,
   "id": "c400be14-0a00-45c4-b094-3926c99b6ba4",
   "metadata": {},
   "outputs": [
    {
     "data": {
      "image/png": "[encoded data removed]",
      "text/plain": [
       "<Figure size 432x288 with 1 Axes>"
      ]
     },
     "metadata": {
      "needs_background": "light"
     },
     "output_type": "display_data"
    },
    {
     "name": "stdout",
     "output_type": "stream",
     "text": [
      "[0. 0. 0. 0. 0. 1. 0. 0. 0. 0.]\n"
     ]
    }
   ],
   "source": [
    "plt.imshow(images[0].reshape(28,28))\n",
    "plt.show()\n",
    "print(labels[0])"
   ]
  },
  {
   "cell_type": "code",
   "execution_count": null,
   "id": "715e061c-858c-4b97-b1e6-97b6571223cf",
   "metadata": {},
   "outputs": [
    {
     "name": "stdout",
     "output_type": "stream",
     "text": [
      "19 / 40\r"
     ]
    }
   ],
   "source": [
    "itter = 5\n",
    "hidden_layers = np.arange(1,200,5)\n",
    "times = len(hidden_layers)\n",
    "data = np.zeros((times,itter+2))\n",
    "for layers, j in zip(hidden_layers,range(times)):\n",
    "    # weights of hiden layer\n",
    "    w_h = np.random.uniform(-0.5, 0.5, (layers, 784))\n",
    "    # weights of output layer\n",
    "    w_o =  np.random.uniform(-0.5, 0.5, (10, layers))\n",
    "    # bias of hiden layer\n",
    "    b_h = np.zeros((layers, 1))\n",
    "    # bias of output layer\n",
    "    b_o = np.zeros((10, 1))\n",
    "\n",
    "    learn_rate = 0.01\n",
    "    nr_correct = 0\n",
    "    \n",
    "    for i in range(itter):\n",
    "        for N in range(n):\n",
    "            start_time = time.time()\n",
    "            \n",
    "            img = np.array(images[N],ndmin=2)\n",
    "            l = np.array(labels[N],ndmin=2)\n",
    "            l = np.transpose(l)\n",
    "            \n",
    "            # Hidden\n",
    "            y_tmp = w_h @ np.transpose(img)+ b_h\n",
    "            y = 1 / (1 + np.exp(-y_tmp))\n",
    "\n",
    "            # Output\n",
    "            o_tmp = w_o @ y + b_o\n",
    "            o = 1 / (1 + np.exp(-o_tmp))\n",
    "\n",
    "            #Error\n",
    "            e = 1/len(o)*np.sum((o-l)**2)\n",
    "            nr_correct += int(np.argmax(o)==np.argmax(l))\n",
    "\n",
    "            # Backpropagation\n",
    "            delta_o = o-l\n",
    "            w_o += -learn_rate * delta_o @ np.transpose(y)\n",
    "            b_o += -learn_rate * delta_o\n",
    "\n",
    "            delta_h = np.transpose(w_o)@delta_o*y*(1-y)\n",
    "            w_h += -learn_rate * delta_h @ img\n",
    "            b_h += -learn_rate * delta_h\n",
    "\n",
    "    # Show accuracy for this epoch\n",
    "        acc = round((nr_correct / images.shape[0]) * 100, 2)\n",
    "        data[j,0] = layers\n",
    "        data[j,i+2] = acc\n",
    "        end_time = time.time()\n",
    "        nr_correct = 0\n",
    "    data[j,1] = end_time - start_time\n",
    "    print(j,'/',times,end='\\r')\n",
    "print(data)"
   ]
  },
  {
   "cell_type": "code",
   "execution_count": 1,
   "id": "fdcc525b-4731-49e2-9759-d0f0adc08a38",
   "metadata": {},
   "outputs": [
    {
     "ename": "NameError",
     "evalue": "name 'np' is not defined",
     "output_type": "error",
     "traceback": [
      "\u001b[0;31m---------------------------------------------------------------------------\u001b[0m",
      "\u001b[0;31mNameError\u001b[0m                                 Traceback (most recent call last)",
      "\u001b[0;32m/tmp/ipykernel_3188/2942326349.py\u001b[0m in \u001b[0;36m<module>\u001b[0;34m\u001b[0m\n\u001b[0;32m----> 1\u001b[0;31m \u001b[0mnp\u001b[0m\u001b[0;34m.\u001b[0m\u001b[0msavetxt\u001b[0m\u001b[0;34m(\u001b[0m\u001b[0;34m\"foo.csv\"\u001b[0m\u001b[0;34m,\u001b[0m \u001b[0mdata\u001b[0m\u001b[0;34m,\u001b[0m \u001b[0mdelimiter\u001b[0m\u001b[0;34m=\u001b[0m\u001b[0;34m\",\"\u001b[0m\u001b[0;34m)\u001b[0m\u001b[0;34m\u001b[0m\u001b[0;34m\u001b[0m\u001b[0m\n\u001b[0m",
      "\u001b[0;31mNameError\u001b[0m: name 'np' is not defined"
     ]
    }
   ],
   "source": [
    "np.savetxt(\"foo.csv\", data, delimiter=\",\")"
   ]
  },
  {
   "cell_type": "code",
   "execution_count": null,
   "id": "0bcae9d9-8706-45d5-8433-d97bf70f874c",
   "metadata": {},
   "outputs": [],
   "source": []
  },
  {
   "cell_type": "code",
   "execution_count": null,
   "id": "8a7cf2db-e6cc-4993-9a25-c39d0b2a3893",
   "metadata": {},
   "outputs": [],
   "source": [
    "\"\"\"\n",
    "img = np.array([0,0.2,0.62,1,0.62],ndmin=2)\n",
    "wh  = np.array([[0.05,0.22,0.1,0.04,-0.08],\n",
    "        [0.15,-0.06,0.39,0.46,-0.12],\n",
    "        [0.29,0.03,0.07,0.43,-0.43],\n",
    "        [0.41,0.48,0.33,8.66,0.37]])\n",
    "\n",
    "bh  = np.zeros((4,1))\n",
    "wo  = np.array([[0.48,0.3,-0.04,0.28],\n",
    "        [-0.38,0.14,-0.36,0.44],\n",
    "        [0.02,-0.09,-0.24,0.27]])\n",
    "bo = np.zeros((3,1))\n",
    "\"\"\""
   ]
  }
 ],
 "metadata": {
  "kernelspec": {
   "display_name": "Python 3 (ipykernel)",
   "language": "python",
   "name": "python3"
  },
  "language_info": {
   "codemirror_mode": {
    "name": "ipython",
    "version": 3
   },
   "file_extension": ".py",
   "mimetype": "text/x-python",
   "name": "python",
   "nbconvert_exporter": "python",
   "pygments_lexer": "ipython3",
   "version": "3.8.10"
  },
  "vscode": {
   "interpreter": {
    "hash": "916dbcbb3f70747c44a77c7bcd40155683ae19c65e1c03b4aa3499c5328201f1"
   }
  }
 },
 "nbformat": 4,
 "nbformat_minor": 5
}
