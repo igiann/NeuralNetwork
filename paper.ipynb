{
 "cells": [
  {
   "cell_type": "code",
   "execution_count": 3,
   "metadata": {},
   "outputs": [
    {
     "data": {
      "image/png": "[encoded data removed]",
      "text/plain": [
       "<Figure size 432x288 with 1 Axes>"
      ]
     },
     "metadata": {
      "needs_background": "light"
     },
     "output_type": "display_data"
    },
    {
     "name": "stdout",
     "output_type": "stream",
     "text": [
      "[[0.14409814 0.26038287]\n",
      " [0.34409814 0.46038287]]\n"
     ]
    }
   ],
   "source": [
    "import numpy as np\n",
    "import matplotlib.pyplot as plt\n",
    "\n",
    "x  = np.array([[0.5,0.7]])\n",
    "wh = np.array([[0.1,0.2],[0.3,0.4]])\n",
    "wo = np.array([[0.1],[0.2]])\n",
    "r = 0.1\n",
    "t = 0.5\n",
    "c=np.zeros(10)\n",
    "for i in range(len(c)):\n",
    "    h_temp = x@wh\n",
    "    h = 1/(1+np.exp(-h_temp))\n",
    "    o = h@wo\n",
    "    wo -= r*2*(o-t)*h.T\n",
    "    wh -= r*2*(o-t)*h*(1-h)*x\n",
    "    c[i]= (o-t)**2\n",
    "plt.plot(c)\n",
    "plt.show()\n",
    "print(wh)"
   ]
  },
  {
   "cell_type": "code",
   "execution_count": 4,
   "metadata": {},
   "outputs": [
    {
     "name": "stdout",
     "output_type": "stream",
     "text": [
      "[[0.28399177]]\n"
     ]
    }
   ],
   "source": [
    "h=x@wh\n",
    "print(x@wh@wo)"
   ]
  }
 ],
 "metadata": {
  "kernelspec": {
   "display_name": "Python 3",
   "language": "python",
   "name": "python3"
  },
  "language_info": {
   "codemirror_mode": {
    "name": "ipython",
    "version": 3
   },
   "file_extension": ".py",
   "mimetype": "text/x-python",
   "name": "python",
   "nbconvert_exporter": "python",
   "pygments_lexer": "ipython3",
   "version": "3.8.10"
  },
  "orig_nbformat": 4
 },
 "nbformat": 4,
 "nbformat_minor": 2
}
