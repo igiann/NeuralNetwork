{
 "cells": [
  {
   "cell_type": "code",
   "execution_count": 70,
   "metadata": {},
   "outputs": [
    {
     "data": {
      "image/png": "[encoded data removed]",
      "text/plain": [
       "<Figure size 432x288 with 1 Axes>"
      ]
     },
     "metadata": {
      "needs_background": "light"
     },
     "output_type": "display_data"
    },
    {
     "name": "stdout",
     "output_type": "stream",
     "text": [
      "6.496986285741011e-08\n",
      "[[0.5 0.7]]\n"
     ]
    }
   ],
   "source": [
    "#First code\n",
    "import numpy as np\n",
    "import matplotlib.pyplot as plt\n",
    "\n",
    "x  = np.array([[0.5,0.7]])\n",
    "wh = np.array([[0.1,0.2],[0.3,0.4]])\n",
    "wo = np.array([[0.1],[0.2]])\n",
    "r = 0.1\n",
    "t = 0.5\n",
    "c=np.zeros(100)\n",
    "for i in range(len(c)):\n",
    "    h_temp = x@wh\n",
    "    h = 1/(1+np.exp(-h_temp))\n",
    "    o = h@wo\n",
    "    wo -= r*(o-t)*h.T\n",
    "    wh -= r*(o-t)*wo*(1-h)*h*x\n",
    "    c[i]= (o-t)**2\n",
    "plt.plot(c)\n",
    "plt.show()\n",
    "print(c[-1])\n",
    "print(x)"
   ]
  },
  {
   "cell_type": "code",
   "execution_count": 124,
   "metadata": {},
   "outputs": [],
   "source": [
    "# Create traing secuence\n",
    "import numpy as np\n",
    "import matplotlib.pyplot as plt\n",
    "\n",
    "N  = 100\n",
    "X  = np.random.normal(0,1,[N,5])\n",
    "wh = np.random.uniform(-0.5, 0.5, (5, 2))\n",
    "wo = np.array([[0.1],[0.2]])\n",
    "T  = np.zeros(N)\n",
    "for i in range(N):\n",
    "    x = np.array([X[i]])\n",
    "    h_temp = x@wh\n",
    "    h = 1/(1+np.exp(-h_temp))\n",
    "    T[i] = h@wo"
   ]
  },
  {
   "cell_type": "code",
   "execution_count": 133,
   "metadata": {},
   "outputs": [
    {
     "name": "stdout",
     "output_type": "stream",
     "text": [
      "(2, 1)\n"
     ]
    },
    {
     "ename": "ValueError",
     "evalue": "operands could not be broadcast together with shapes (2,2) (1,5) ",
     "output_type": "error",
     "traceback": [
      "\u001b[0;31m---------------------------------------------------------------------------\u001b[0m",
      "\u001b[0;31mValueError\u001b[0m                                Traceback (most recent call last)",
      "\u001b[1;32m/home/igiann/Documents/NeuralNetwork/paper.ipynb Cell 3\u001b[0m in \u001b[0;36m<cell line: 5>\u001b[0;34m()\u001b[0m\n\u001b[1;32m     <a href='vscode-notebook-cell:/home/igiann/Documents/NeuralNetwork/paper.ipynb#W1sZmlsZQ%3D%3D?line=10'>11</a>\u001b[0m     wo \u001b[39m-\u001b[39m\u001b[39m=\u001b[39m r\u001b[39m*\u001b[39m(o\u001b[39m-\u001b[39mt)\u001b[39m*\u001b[39mh\u001b[39m.\u001b[39mT\n\u001b[1;32m     <a href='vscode-notebook-cell:/home/igiann/Documents/NeuralNetwork/paper.ipynb#W1sZmlsZQ%3D%3D?line=11'>12</a>\u001b[0m     \u001b[39mprint\u001b[39m(np\u001b[39m.\u001b[39mshape(wo))\n\u001b[0;32m---> <a href='vscode-notebook-cell:/home/igiann/Documents/NeuralNetwork/paper.ipynb#W1sZmlsZQ%3D%3D?line=12'>13</a>\u001b[0m     wh \u001b[39m-\u001b[39m\u001b[39m=\u001b[39m r\u001b[39m*\u001b[39;49m(o\u001b[39m-\u001b[39;49mt)\u001b[39m*\u001b[39;49mwo\u001b[39m*\u001b[39;49m(\u001b[39m1\u001b[39;49m\u001b[39m-\u001b[39;49mh)\u001b[39m*\u001b[39;49mh\u001b[39m*\u001b[39;49mx\n\u001b[1;32m     <a href='vscode-notebook-cell:/home/igiann/Documents/NeuralNetwork/paper.ipynb#W1sZmlsZQ%3D%3D?line=14'>15</a>\u001b[0m     c[i]\u001b[39m=\u001b[39m (o\u001b[39m-\u001b[39mt)\u001b[39m*\u001b[39m\u001b[39m*\u001b[39m\u001b[39m2\u001b[39m\n\u001b[1;32m     <a href='vscode-notebook-cell:/home/igiann/Documents/NeuralNetwork/paper.ipynb#W1sZmlsZQ%3D%3D?line=15'>16</a>\u001b[0m plt\u001b[39m.\u001b[39mplot(c,\u001b[39m'\u001b[39m\u001b[39m.\u001b[39m\u001b[39m'\u001b[39m)\n",
      "\u001b[0;31mValueError\u001b[0m: operands could not be broadcast together with shapes (2,2) (1,5) "
     ]
    }
   ],
   "source": [
    "wh = np.random.uniform(-0.5, 0.5, (5, 2))\n",
    "wo = np.array([[0.3],[0.6]])\n",
    "r = 0.1\n",
    "c=np.zeros(N)\n",
    "for i in range(N):\n",
    "    x = np.array([X[i]])\n",
    "    t = T[i]\n",
    "    h_temp = x@wh\n",
    "    h = 1/(1+np.exp(-h_temp))\n",
    "    o = h@wo\n",
    "    wo -= r*(o-t)*h.T\n",
    "    print(np.shape(wo))\n",
    "    #wh -= r*(o-t)*wo*(1-h)*h*x\n",
    "    wh = wo.T@(1-h) @x(o-t)*(1-h)*\n",
    "\n",
    "    c[i]= (o-t)**2\n",
    "plt.plot(c,'.')\n",
    "plt.show()\n",
    "print(c[-1])"
   ]
  },
  {
   "cell_type": "code",
   "execution_count": 113,
   "metadata": {},
   "outputs": [
    {
     "name": "stdout",
     "output_type": "stream",
     "text": [
      "60000\n"
     ]
    }
   ],
   "source": [
    "from mnist import MNIST\n",
    "mndata = MNIST('./data')\n",
    "images, labels = mndata.load_training()\n",
    "images = np.array(images)\n",
    "labels = np.array(labels)\n",
    "[n,m] = images.shape\n",
    "print(n)"
   ]
  },
  {
   "cell_type": "code",
   "execution_count": 114,
   "metadata": {},
   "outputs": [
    {
     "name": "stdout",
     "output_type": "stream",
     "text": [
      "(1, 784)\n"
     ]
    },
    {
     "data": {
      "image/png": "[encoded data removed]",
      "text/plain": [
       "<Figure size 432x288 with 1 Axes>"
      ]
     },
     "metadata": {
      "needs_background": "light"
     },
     "output_type": "display_data"
    },
    {
     "data": {
      "text/plain": [
       "5"
      ]
     },
     "execution_count": 114,
     "metadata": {},
     "output_type": "execute_result"
    }
   ],
   "source": [
    "print(np.shape(np.array([images[0]])))\n",
    "plt.imshow(images[0].reshape(28, 28), cmap='gray', vmin=0, vmax=255)\n",
    "plt.show()\n",
    "labels[0]"
   ]
  }
 ],
 "metadata": {
  "kernelspec": {
   "display_name": "Python 3",
   "language": "python",
   "name": "python3"
  },
  "language_info": {
   "codemirror_mode": {
    "name": "ipython",
    "version": 3
   },
   "file_extension": ".py",
   "mimetype": "text/x-python",
   "name": "python",
   "nbconvert_exporter": "python",
   "pygments_lexer": "ipython3",
   "version": "3.8.10"
  },
  "orig_nbformat": 4
 },
 "nbformat": 4,
 "nbformat_minor": 2
}
