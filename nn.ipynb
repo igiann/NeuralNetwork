{
 "cells": [
  {
   "cell_type": "code",
   "execution_count": 2,
   "id": "a356b2f6-d4cd-4092-9842-3f908738e481",
   "metadata": {},
   "outputs": [],
   "source": [
    "import numpy as np\n",
    "import time\n",
    "import matplotlib.pyplot as plt"
   ]
  },
  {
   "cell_type": "code",
   "execution_count": null,
   "id": "6a831834",
   "metadata": {},
   "outputs": [],
   "source": []
  },
  {
   "cell_type": "code",
   "execution_count": 3,
   "id": "b3845335-1312-4eaa-9a80-a4c7e093406d",
   "metadata": {},
   "outputs": [],
   "source": [
    "from mnist import MNIST\n",
    "mndata = MNIST('./data')\n",
    "images, labels = mndata.load_training()\n",
    "images = np.array(images)\n",
    "images = images.astype(\"float32\") / 255\n",
    "labels = np.eye(10)[labels]\n",
    "\n",
    "[n,m] = images.shape"
   ]
  },
  {
   "cell_type": "code",
   "execution_count": 4,
   "id": "c400be14-0a00-45c4-b094-3926c99b6ba4",
   "metadata": {},
   "outputs": [
    {
     "data": {
      "image/png": "[encoded data removed]",
      "text/plain": [
       "<Figure size 432x288 with 1 Axes>"
      ]
     },
     "metadata": {
      "needs_background": "light"
     },
     "output_type": "display_data"
    },
    {
     "name": "stdout",
     "output_type": "stream",
     "text": [
      "[0. 0. 0. 0. 0. 1. 0. 0. 0. 0.]\n"
     ]
    }
   ],
   "source": [
    "plt.imshow(images[0].reshape(28,28))\n",
    "plt.show()\n",
    "print(labels[0])"
   ]
  },
  {
   "cell_type": "code",
   "execution_count": 5,
   "id": "715e061c-858c-4b97-b1e6-97b6571223cf",
   "metadata": {},
   "outputs": [
    {
     "name": "stdout",
     "output_type": "stream",
     "text": [
      "[[1.00000000e+00 6.27040863e-05 1.16000000e+01 2.09800000e+01\n",
      "  2.06100000e+01 2.06700000e+01 2.06700000e+01]\n",
      " [6.00000000e+00 7.43865967e-05 7.12300000e+01 8.46500000e+01\n",
      "  8.69400000e+01 8.80600000e+01 8.87700000e+01]\n",
      " [1.10000000e+01 8.53538513e-05 8.18400000e+01 8.99800000e+01\n",
      "  9.08500000e+01 9.13700000e+01 9.17700000e+01]\n",
      " [1.60000000e+01 9.89437103e-05 8.45700000e+01 9.20100000e+01\n",
      "  9.30200000e+01 9.34900000e+01 9.39100000e+01]\n",
      " [2.10000000e+01 1.10149384e-04 8.65100000e+01 9.26700000e+01\n",
      "  9.37500000e+01 9.43400000e+01 9.47400000e+01]\n",
      " [2.60000000e+01 1.21116638e-04 8.67500000e+01 9.29200000e+01\n",
      "  9.40700000e+01 9.47500000e+01 9.52200000e+01]\n",
      " [3.10000000e+01 1.34706497e-04 8.72900000e+01 9.32100000e+01\n",
      "  9.42100000e+01 9.48300000e+01 9.53100000e+01]\n",
      " [3.60000000e+01 1.43289566e-04 8.75400000e+01 9.31100000e+01\n",
      "  9.43400000e+01 9.50700000e+01 9.55600000e+01]\n",
      " [4.10000000e+01 1.59978867e-04 8.79400000e+01 9.35900000e+01\n",
      "  9.47200000e+01 9.53700000e+01 9.58200000e+01]\n",
      " [4.60000000e+01 1.66893005e-04 8.82000000e+01 9.34900000e+01\n",
      "  9.47600000e+01 9.55000000e+01 9.60500000e+01]\n",
      " [5.10000000e+01 1.77145004e-04 8.85900000e+01 9.37900000e+01\n",
      "  9.50200000e+01 9.57300000e+01 9.62600000e+01]\n",
      " [5.60000000e+01 1.87397003e-04 8.87500000e+01 9.38200000e+01\n",
      "  9.50800000e+01 9.57300000e+01 9.62500000e+01]\n",
      " [6.10000000e+01 2.10523605e-04 8.88100000e+01 9.39400000e+01\n",
      "  9.53100000e+01 9.60600000e+01 9.66400000e+01]\n",
      " [6.60000000e+01 2.11477280e-04 8.90700000e+01 9.39800000e+01\n",
      "  9.53200000e+01 9.60400000e+01 9.65900000e+01]\n",
      " [7.10000000e+01 2.24113464e-04 8.93400000e+01 9.41500000e+01\n",
      "  9.54300000e+01 9.61500000e+01 9.66700000e+01]\n",
      " [7.60000000e+01 2.32934952e-04 8.92900000e+01 9.41400000e+01\n",
      "  9.54000000e+01 9.61700000e+01 9.66900000e+01]\n",
      " [8.10000000e+01 2.41994858e-04 8.91500000e+01 9.43400000e+01\n",
      "  9.55800000e+01 9.63100000e+01 9.67900000e+01]\n",
      " [8.60000000e+01 2.52962112e-04 8.93700000e+01 9.43300000e+01\n",
      "  9.56500000e+01 9.64200000e+01 9.69500000e+01]\n",
      " [9.10000000e+01 2.63452530e-04 8.94800000e+01 9.43300000e+01\n",
      "  9.56100000e+01 9.63400000e+01 9.68100000e+01]\n",
      " [9.60000000e+01 2.74896622e-04 8.95500000e+01 9.43300000e+01\n",
      "  9.56200000e+01 9.63900000e+01 9.69200000e+01]\n",
      " [1.01000000e+02 2.86817551e-04 8.98300000e+01 9.43900000e+01\n",
      "  9.57100000e+01 9.65300000e+01 9.70200000e+01]\n",
      " [1.06000000e+02 3.07321548e-04 8.95500000e+01 9.43600000e+01\n",
      "  9.56600000e+01 9.64600000e+01 9.70000000e+01]\n",
      " [1.11000000e+02 3.10897827e-04 8.96000000e+01 9.44400000e+01\n",
      "  9.57700000e+01 9.65500000e+01 9.70700000e+01]\n",
      " [1.16000000e+02 3.16858292e-04 8.99000000e+01 9.47000000e+01\n",
      "  9.59700000e+01 9.66300000e+01 9.71600000e+01]\n",
      " [1.21000000e+02 3.33786011e-04 8.99900000e+01 9.44400000e+01\n",
      "  9.57500000e+01 9.65700000e+01 9.71600000e+01]\n",
      " [1.26000000e+02 3.43561172e-04 8.99200000e+01 9.45300000e+01\n",
      "  9.58100000e+01 9.65900000e+01 9.71000000e+01]\n",
      " [1.31000000e+02 3.67641449e-04 8.99900000e+01 9.45100000e+01\n",
      "  9.57700000e+01 9.65200000e+01 9.71200000e+01]\n",
      " [1.36000000e+02 3.63826752e-04 8.99600000e+01 9.44900000e+01\n",
      "  9.58100000e+01 9.66400000e+01 9.72300000e+01]\n",
      " [1.41000000e+02 3.87668610e-04 9.02700000e+01 9.46300000e+01\n",
      "  9.59700000e+01 9.67300000e+01 9.72000000e+01]\n",
      " [1.46000000e+02 3.82900238e-04 9.01000000e+01 9.46100000e+01\n",
      "  9.58900000e+01 9.66300000e+01 9.72000000e+01]\n",
      " [1.51000000e+02 3.98159027e-04 8.99500000e+01 9.46800000e+01\n",
      "  9.60300000e+01 9.68400000e+01 9.73200000e+01]\n",
      " [1.56000000e+02 4.09126282e-04 9.03000000e+01 9.47900000e+01\n",
      "  9.60800000e+01 9.68100000e+01 9.72900000e+01]\n",
      " [1.61000000e+02 4.25338745e-04 8.99500000e+01 9.46700000e+01\n",
      "  9.60300000e+01 9.67800000e+01 9.73600000e+01]\n",
      " [1.66000000e+02 4.30107117e-04 9.01000000e+01 9.46800000e+01\n",
      "  9.59900000e+01 9.68200000e+01 9.74400000e+01]\n",
      " [1.71000000e+02 4.41789627e-04 9.02900000e+01 9.48100000e+01\n",
      "  9.61200000e+01 9.68600000e+01 9.73800000e+01]\n",
      " [1.76000000e+02 5.52654266e-04 9.02900000e+01 9.46900000e+01\n",
      "  9.60800000e+01 9.67800000e+01 9.73400000e+01]\n",
      " [1.81000000e+02 4.72545624e-04 9.03600000e+01 9.48400000e+01\n",
      "  9.61000000e+01 9.69200000e+01 9.74200000e+01]\n",
      " [1.86000000e+02 4.83512878e-04 9.05800000e+01 9.47800000e+01\n",
      "  9.60600000e+01 9.68200000e+01 9.73700000e+01]\n",
      " [1.91000000e+02 4.83036041e-04 9.04100000e+01 9.48800000e+01\n",
      "  9.61800000e+01 9.69600000e+01 9.74800000e+01]\n",
      " [1.96000000e+02 4.95672226e-04 9.05300000e+01 9.49600000e+01\n",
      "  9.62200000e+01 9.69600000e+01 9.75300000e+01]]\n"
     ]
    }
   ],
   "source": [
    "itter = 5\n",
    "hidden_layers = np.arange(1,200,5)\n",
    "times = len(hidden_layers)\n",
    "data = np.zeros((times,itter+2))\n",
    "for layers, j in zip(hidden_layers,range(times)):\n",
    "    # weights of hiden layer\n",
    "    w_h = np.random.uniform(-0.5, 0.5, (layers, 784))\n",
    "    # weights of output layer\n",
    "    w_o =  np.random.uniform(-0.5, 0.5, (10, layers))\n",
    "    # bias of hiden layer\n",
    "    b_h = np.zeros((layers, 1))\n",
    "    # bias of output layer\n",
    "    b_o = np.zeros((10, 1))\n",
    "\n",
    "    learn_rate = 0.01\n",
    "    nr_correct = 0\n",
    "    \n",
    "    for i in range(itter):\n",
    "        for N in range(n):\n",
    "            start_time = time.time()\n",
    "            \n",
    "            img = np.array(images[N],ndmin=2)\n",
    "            l = np.array(labels[N],ndmin=2)\n",
    "            l = np.transpose(l)\n",
    "            \n",
    "            # Hidden\n",
    "            y_tmp = w_h @ np.transpose(img)+ b_h\n",
    "            y = 1 / (1 + np.exp(-y_tmp)) # ok\n",
    "\n",
    "            # Output\n",
    "            o_tmp = w_o @ y + b_o\n",
    "            o = 1 / (1 + np.exp(-o_tmp))\n",
    "\n",
    "            #Error\n",
    "            e = 1/len(o)*np.sum((o-l)**2)\n",
    "            nr_correct += int(np.argmax(o)==np.argmax(l))\n",
    "\n",
    "            # Backpropagation\n",
    "            delta_o = o-l\n",
    "            w_o += -learn_rate * delta_o @ np.transpose(y)\n",
    "            b_o += -learn_rate * delta_o\n",
    "\n",
    "            delta_h = np.transpose(w_o)@delta_o*y*(1-y)\n",
    "            w_h += -learn_rate * delta_h @ img\n",
    "            b_h += -learn_rate * delta_h\n",
    "\n",
    "    # Show accuracy for this epoch\n",
    "        acc = round((nr_correct / images.shape[0]) * 100, 2)\n",
    "        data[j,0] = layers\n",
    "        data[j,i+2] = acc\n",
    "        end_time = time.time()\n",
    "        nr_correct = 0\n",
    "    data[j,1] = end_time - start_time\n",
    "    print(j,'/',times,end='\\r')\n",
    "print(data)"
   ]
  },
  {
   "cell_type": "code",
   "execution_count": 1,
   "id": "fdcc525b-4731-49e2-9759-d0f0adc08a38",
   "metadata": {},
   "outputs": [
    {
     "ename": "NameError",
     "evalue": "name 'np' is not defined",
     "output_type": "error",
     "traceback": [
      "\u001b[0;31m---------------------------------------------------------------------------\u001b[0m",
      "\u001b[0;31mNameError\u001b[0m                                 Traceback (most recent call last)",
      "\u001b[0;32m/tmp/ipykernel_3188/2942326349.py\u001b[0m in \u001b[0;36m<module>\u001b[0;34m\u001b[0m\n\u001b[0;32m----> 1\u001b[0;31m \u001b[0mnp\u001b[0m\u001b[0;34m.\u001b[0m\u001b[0msavetxt\u001b[0m\u001b[0;34m(\u001b[0m\u001b[0;34m\"foo.csv\"\u001b[0m\u001b[0;34m,\u001b[0m \u001b[0mdata\u001b[0m\u001b[0;34m,\u001b[0m \u001b[0mdelimiter\u001b[0m\u001b[0;34m=\u001b[0m\u001b[0;34m\",\"\u001b[0m\u001b[0;34m)\u001b[0m\u001b[0;34m\u001b[0m\u001b[0;34m\u001b[0m\u001b[0m\n\u001b[0m",
      "\u001b[0;31mNameError\u001b[0m: name 'np' is not defined"
     ]
    }
   ],
   "source": [
    "np.savetxt(\"foo.csv\", data, delimiter=\",\")"
   ]
  },
  {
   "cell_type": "code",
   "execution_count": null,
   "id": "0bcae9d9-8706-45d5-8433-d97bf70f874c",
   "metadata": {},
   "outputs": [],
   "source": []
  },
  {
   "cell_type": "code",
   "execution_count": null,
   "id": "8a7cf2db-e6cc-4993-9a25-c39d0b2a3893",
   "metadata": {},
   "outputs": [],
   "source": [
    "\"\"\"\n",
    "img = np.array([0,0.2,0.62,1,0.62],ndmin=2)\n",
    "wh  = np.array([[0.05,0.22,0.1,0.04,-0.08],\n",
    "        [0.15,-0.06,0.39,0.46,-0.12],\n",
    "        [0.29,0.03,0.07,0.43,-0.43],\n",
    "        [0.41,0.48,0.33,8.66,0.37]])\n",
    "\n",
    "bh  = np.zeros((4,1))\n",
    "wo  = np.array([[0.48,0.3,-0.04,0.28],\n",
    "        [-0.38,0.14,-0.36,0.44],\n",
    "        [0.02,-0.09,-0.24,0.27]])\n",
    "bo = np.zeros((3,1))\n",
    "\"\"\""
   ]
  }
 ],
 "metadata": {
  "kernelspec": {
   "display_name": "Python 3 (ipykernel)",
   "language": "python",
   "name": "python3"
  },
  "language_info": {
   "codemirror_mode": {
    "name": "ipython",
    "version": 3
   },
   "file_extension": ".py",
   "mimetype": "text/x-python",
   "name": "python",
   "nbconvert_exporter": "python",
   "pygments_lexer": "ipython3",
   "version": "3.8.10"
  },
  "vscode": {
   "interpreter": {
    "hash": "916dbcbb3f70747c44a77c7bcd40155683ae19c65e1c03b4aa3499c5328201f1"
   }
  }
 },
 "nbformat": 4,
 "nbformat_minor": 5
}
