{
 "cells": [
  {
   "cell_type": "code",
   "execution_count": 1,
   "id": "a356b2f6-d4cd-4092-9842-3f908738e481",
   "metadata": {},
   "outputs": [],
   "source": [
    "import numpy as np\n",
    "import time\n",
    "import matplotlib.pyplot as plt"
   ]
  },
  {
   "cell_type": "code",
   "execution_count": 2,
   "id": "b3845335-1312-4eaa-9a80-a4c7e093406d",
   "metadata": {},
   "outputs": [],
   "source": [
    "from mnist import MNIST\n",
    "mndata = MNIST('./data')\n",
    "images, labels = mndata.load_training()\n",
    "images = np.array(images)\n",
    "images = images.astype(\"float32\") / 255\n",
    "labels = np.eye(10)[labels]\n",
    "\n",
    "[n,m] = images.shape"
   ]
  },
  {
   "cell_type": "code",
   "execution_count": 3,
   "id": "c400be14-0a00-45c4-b094-3926c99b6ba4",
   "metadata": {},
   "outputs": [
    {
     "data": {
      "image/png": "[encoded data removed]",
      "text/plain": [
       "<Figure size 432x288 with 1 Axes>"
      ]
     },
     "metadata": {
      "needs_background": "light"
     },
     "output_type": "display_data"
    },
    {
     "name": "stdout",
     "output_type": "stream",
     "text": [
      "[0. 0. 0. 0. 0. 1. 0. 0. 0. 0.]\n"
     ]
    }
   ],
   "source": [
    "plt.imshow(images[0].reshape(28,28))\n",
    "plt.show()\n",
    "print(labels[0])"
   ]
  },
  {
   "cell_type": "code",
   "execution_count": 15,
   "id": "715e061c-858c-4b97-b1e6-97b6571223cf",
   "metadata": {},
   "outputs": [
    {
     "name": "stdout",
     "output_type": "stream",
     "text": [
      "[[1.00000000e+00 5.24520874e-05 1.02700000e+01 2.10100000e+01\n",
      "  2.24800000e+01 2.28800000e+01 2.31900000e+01]\n",
      " [6.00000000e+00 6.07967377e-05 7.55900000e+01 8.64200000e+01\n",
      "  8.77000000e+01 8.82800000e+01 8.87700000e+01]\n",
      " [1.10000000e+01 6.77108765e-05 8.13700000e+01 9.05000000e+01\n",
      "  9.14500000e+01 9.20000000e+01 9.23800000e+01]\n",
      " [1.60000000e+01 2.37226486e-04 8.44100000e+01 9.17500000e+01\n",
      "  9.27300000e+01 9.32600000e+01 9.36800000e+01]\n",
      " [2.10000000e+01 2.60829926e-04 8.59800000e+01 9.24100000e+01\n",
      "  9.35300000e+01 9.41900000e+01 9.46500000e+01]\n",
      " [2.60000000e+01 2.80618668e-04 8.63300000e+01 9.26100000e+01\n",
      "  9.38200000e+01 9.45500000e+01 9.50200000e+01]\n",
      " [3.10000000e+01 3.03030014e-04 8.69200000e+01 9.29300000e+01\n",
      "  9.42100000e+01 9.48900000e+01 9.53200000e+01]\n",
      " [3.60000000e+01 3.32117081e-04 8.79800000e+01 9.32400000e+01\n",
      "  9.44100000e+01 9.50700000e+01 9.55000000e+01]\n",
      " [4.10000000e+01 3.47852707e-04 8.79300000e+01 9.35600000e+01\n",
      "  9.47600000e+01 9.55300000e+01 9.60300000e+01]\n",
      " [4.60000000e+01 3.68118286e-04 8.81500000e+01 9.35800000e+01\n",
      "  9.48100000e+01 9.55200000e+01 9.59800000e+01]\n",
      " [5.10000000e+01 3.93629074e-04 8.85800000e+01 9.36700000e+01\n",
      "  9.49500000e+01 9.56100000e+01 9.61600000e+01]\n",
      " [5.60000000e+01 4.16278839e-04 8.88300000e+01 9.37700000e+01\n",
      "  9.50100000e+01 9.57800000e+01 9.63000000e+01]\n",
      " [6.10000000e+01 4.62532043e-04 8.88100000e+01 9.39500000e+01\n",
      "  9.51900000e+01 9.58900000e+01 9.64900000e+01]\n",
      " [6.60000000e+01 4.56809998e-04 8.87200000e+01 9.39400000e+01\n",
      "  9.53100000e+01 9.60600000e+01 9.65700000e+01]\n",
      " [7.10000000e+01 4.38213348e-04 8.91000000e+01 9.43100000e+01\n",
      "  9.54700000e+01 9.62100000e+01 9.66800000e+01]\n",
      " [7.60000000e+01 4.91619110e-04 8.91700000e+01 9.42100000e+01\n",
      "  9.55800000e+01 9.63200000e+01 9.67700000e+01]\n",
      " [8.10000000e+01 5.24997711e-04 8.90300000e+01 9.41000000e+01\n",
      "  9.53900000e+01 9.61800000e+01 9.67800000e+01]\n",
      " [8.60000000e+01 5.44548035e-04 8.91800000e+01 9.42700000e+01\n",
      "  9.55200000e+01 9.62400000e+01 9.68500000e+01]\n",
      " [9.10000000e+01 5.66720963e-04 8.96200000e+01 9.42700000e+01\n",
      "  9.56000000e+01 9.63500000e+01 9.69000000e+01]\n",
      " [9.60000000e+01 5.90324402e-04 8.96200000e+01 9.44300000e+01\n",
      "  9.57200000e+01 9.65500000e+01 9.70600000e+01]\n",
      " [1.01000000e+02 6.06060028e-04 8.96600000e+01 9.43500000e+01\n",
      "  9.56300000e+01 9.64400000e+01 9.69700000e+01]\n",
      " [1.06000000e+02 6.28709793e-04 8.99400000e+01 9.46200000e+01\n",
      "  9.57600000e+01 9.64900000e+01 9.69900000e+01]\n",
      " [1.11000000e+02 6.67333603e-04 8.96200000e+01 9.45000000e+01\n",
      "  9.58100000e+01 9.65700000e+01 9.71100000e+01]\n",
      " [1.16000000e+02 7.07149506e-04 9.00400000e+01 9.46200000e+01\n",
      "  9.58800000e+01 9.66000000e+01 9.70800000e+01]\n",
      " [1.21000000e+02 6.86168671e-04 8.98100000e+01 9.45000000e+01\n",
      "  9.57800000e+01 9.65500000e+01 9.70900000e+01]\n",
      " [1.26000000e+02 7.29799271e-04 8.98500000e+01 9.46300000e+01\n",
      "  9.59100000e+01 9.66400000e+01 9.71800000e+01]\n",
      " [1.31000000e+02 7.51733780e-04 8.98600000e+01 9.45500000e+01\n",
      "  9.58400000e+01 9.66200000e+01 9.71400000e+01]\n",
      " [1.36000000e+02 7.69853592e-04 8.97100000e+01 9.45100000e+01\n",
      "  9.58400000e+01 9.66500000e+01 9.71600000e+01]\n",
      " [1.41000000e+02 7.98702240e-04 8.98700000e+01 9.45200000e+01\n",
      "  9.59400000e+01 9.66500000e+01 9.71700000e+01]\n",
      " [1.46000000e+02 8.14199448e-04 8.98700000e+01 9.46600000e+01\n",
      "  9.59300000e+01 9.67000000e+01 9.72600000e+01]\n",
      " [1.51000000e+02 8.35418701e-04 9.01100000e+01 9.46700000e+01\n",
      "  9.59800000e+01 9.67800000e+01 9.73400000e+01]\n",
      " [1.56000000e+02 8.54492188e-04 9.02800000e+01 9.48000000e+01\n",
      "  9.60500000e+01 9.68000000e+01 9.73000000e+01]\n",
      " [1.61000000e+02 8.78334045e-04 8.99600000e+01 9.47100000e+01\n",
      "  9.60200000e+01 9.68000000e+01 9.73900000e+01]\n",
      " [1.66000000e+02 9.50813293e-04 9.03000000e+01 9.48100000e+01\n",
      "  9.60800000e+01 9.68800000e+01 9.74100000e+01]\n",
      " [1.71000000e+02 9.23156738e-04 9.04400000e+01 9.48200000e+01\n",
      "  9.61400000e+01 9.68300000e+01 9.73700000e+01]\n",
      " [1.76000000e+02 9.55820084e-04 9.00900000e+01 9.46300000e+01\n",
      "  9.59900000e+01 9.67900000e+01 9.73100000e+01]\n",
      " [1.81000000e+02 9.63926315e-04 9.05200000e+01 9.49100000e+01\n",
      "  9.62100000e+01 9.69000000e+01 9.74300000e+01]\n",
      " [1.86000000e+02 9.93251801e-04 9.02300000e+01 9.48100000e+01\n",
      "  9.61500000e+01 9.69300000e+01 9.74000000e+01]\n",
      " [1.91000000e+02 1.01685524e-03 9.03000000e+01 9.49200000e+01\n",
      "  9.61500000e+01 9.69100000e+01 9.74200000e+01]\n",
      " [1.96000000e+02 1.06167793e-03 9.04900000e+01 9.49000000e+01\n",
      "  9.61700000e+01 9.69400000e+01 9.74600000e+01]]\n"
     ]
    }
   ],
   "source": [
    "itter = 5\n",
    "hidden_layers = np.arange(1,200,5)\n",
    "times = len(hidden_layers)\n",
    "data = np.zeros((times,itter+2))\n",
    "for layers, j in zip(hidden_layers,range(times)):\n",
    "    # weights of hiden layer\n",
    "    w_h = np.random.uniform(-0.5, 0.5, (layers, 784))\n",
    "    # weights of output layer\n",
    "    w_o =  np.random.uniform(-0.5, 0.5, (10, layers))\n",
    "    # bias of hiden layer\n",
    "    b_h = np.zeros((layers, 1))\n",
    "    # bias of output layer\n",
    "    b_o = np.zeros((10, 1))\n",
    "\n",
    "    learn_rate = 0.01\n",
    "    nr_correct = 0\n",
    "    \n",
    "    for i in range(itter):\n",
    "        for N in range(n):\n",
    "            start_time = time.time()\n",
    "            \n",
    "            img = np.array(images[N],ndmin=2)\n",
    "            l = np.array(labels[N],ndmin=2)\n",
    "            l = np.transpose(l)\n",
    "            \n",
    "            # Hidden\n",
    "            y_tmp = w_h @ np.transpose(img)+ b_h\n",
    "            y = 1 / (1 + np.exp(-y_tmp))\n",
    "\n",
    "            # Output\n",
    "            o_tmp = w_o @ y + b_o\n",
    "            o = 1 / (1 + np.exp(-o_tmp))\n",
    "\n",
    "            #Error\n",
    "            e = 1/len(o)*np.sum((o-l)**2)\n",
    "            nr_correct += int(np.argmax(o)==np.argmax(l))\n",
    "\n",
    "            # Backpropagation\n",
    "            delta_o = o-l\n",
    "            w_o += -learn_rate * delta_o @ np.transpose(y)\n",
    "            b_o += -learn_rate * delta_o\n",
    "\n",
    "            delta_h = np.transpose(w_o)@delta_o*y*(1-y)\n",
    "            w_h += -learn_rate * delta_h @ img\n",
    "            b_h += -learn_rate * delta_h\n",
    "\n",
    "    # Show accuracy for this epoch\n",
    "        acc = round((nr_correct / images.shape[0]) * 100, 2)\n",
    "        data[j,0] = layers\n",
    "        data[j,i+2] = acc\n",
    "        end_time = time.time()\n",
    "        nr_correct = 0\n",
    "    data[j,1] = end_time - start_time\n",
    "    print(j,'/',times,end='\\r')\n",
    "print(data)"
   ]
  },
  {
   "cell_type": "code",
   "execution_count": 1,
   "id": "fdcc525b-4731-49e2-9759-d0f0adc08a38",
   "metadata": {},
   "outputs": [
    {
     "ename": "NameError",
     "evalue": "name 'np' is not defined",
     "output_type": "error",
     "traceback": [
      "\u001b[0;31m---------------------------------------------------------------------------\u001b[0m",
      "\u001b[0;31mNameError\u001b[0m                                 Traceback (most recent call last)",
      "\u001b[0;32m/tmp/ipykernel_3188/2942326349.py\u001b[0m in \u001b[0;36m<module>\u001b[0;34m\u001b[0m\n\u001b[0;32m----> 1\u001b[0;31m \u001b[0mnp\u001b[0m\u001b[0;34m.\u001b[0m\u001b[0msavetxt\u001b[0m\u001b[0;34m(\u001b[0m\u001b[0;34m\"foo.csv\"\u001b[0m\u001b[0;34m,\u001b[0m \u001b[0mdata\u001b[0m\u001b[0;34m,\u001b[0m \u001b[0mdelimiter\u001b[0m\u001b[0;34m=\u001b[0m\u001b[0;34m\",\"\u001b[0m\u001b[0;34m)\u001b[0m\u001b[0;34m\u001b[0m\u001b[0;34m\u001b[0m\u001b[0m\n\u001b[0m",
      "\u001b[0;31mNameError\u001b[0m: name 'np' is not defined"
     ]
    }
   ],
   "source": [
    "np.savetxt(\"foo.csv\", data, delimiter=\",\")"
   ]
  },
  {
   "cell_type": "code",
   "execution_count": null,
   "id": "0bcae9d9-8706-45d5-8433-d97bf70f874c",
   "metadata": {},
   "outputs": [],
   "source": []
  },
  {
   "cell_type": "code",
   "execution_count": null,
   "id": "8a7cf2db-e6cc-4993-9a25-c39d0b2a3893",
   "metadata": {},
   "outputs": [],
   "source": [
    "\"\"\"\n",
    "img = np.array([0,0.2,0.62,1,0.62],ndmin=2)\n",
    "wh  = np.array([[0.05,0.22,0.1,0.04,-0.08],\n",
    "        [0.15,-0.06,0.39,0.46,-0.12],\n",
    "        [0.29,0.03,0.07,0.43,-0.43],\n",
    "        [0.41,0.48,0.33,8.66,0.37]])\n",
    "\n",
    "bh  = np.zeros((4,1))\n",
    "wo  = np.array([[0.48,0.3,-0.04,0.28],\n",
    "        [-0.38,0.14,-0.36,0.44],\n",
    "        [0.02,-0.09,-0.24,0.27]])\n",
    "bo = np.zeros((3,1))\n",
    "\"\"\""
   ]
  }
 ],
 "metadata": {
  "kernelspec": {
   "display_name": "Python 3 (ipykernel)",
   "language": "python",
   "name": "python3"
  },
  "language_info": {
   "codemirror_mode": {
    "name": "ipython",
    "version": 3
   },
   "file_extension": ".py",
   "mimetype": "text/x-python",
   "name": "python",
   "nbconvert_exporter": "python",
   "pygments_lexer": "ipython3",
   "version": "3.10.6"
  },
  "vscode": {
   "interpreter": {
    "hash": "916dbcbb3f70747c44a77c7bcd40155683ae19c65e1c03b4aa3499c5328201f1"
   }
  }
 },
 "nbformat": 4,
 "nbformat_minor": 5
}
