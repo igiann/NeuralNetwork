{
 "cells": [
  {
   "cell_type": "code",
   "execution_count": 89,
   "id": "a356b2f6-d4cd-4092-9842-3f908738e481",
   "metadata": {},
   "outputs": [],
   "source": [
    "import numpy as np\n",
    "import time\n",
    "import matplotlib.pyplot as plt"
   ]
  },
  {
   "cell_type": "code",
   "execution_count": 90,
   "id": "b3845335-1312-4eaa-9a80-a4c7e093406d",
   "metadata": {},
   "outputs": [],
   "source": [
    "from mnist import MNIST\n",
    "mndata = MNIST('./data')\n",
    "images, labels = mndata.load_training()\n",
    "images = np.array(images)\n",
    "images = images.astype(\"float32\") / 255\n",
    "labels = np.eye(10)[labels]\n",
    "\n",
    "[n,m] = images.shape"
   ]
  },
  {
   "cell_type": "code",
   "execution_count": 91,
   "id": "c400be14-0a00-45c4-b094-3926c99b6ba4",
   "metadata": {},
   "outputs": [
    {
     "data": {
      "image/png": "[encoded data removed]",
      "text/plain": [
       "<Figure size 432x288 with 1 Axes>"
      ]
     },
     "metadata": {
      "needs_background": "light"
     },
     "output_type": "display_data"
    },
    {
     "name": "stdout",
     "output_type": "stream",
     "text": [
      "[0. 0. 0. 0. 0. 1. 0. 0. 0. 0.]\n"
     ]
    }
   ],
   "source": [
    "plt.imshow(images[0].reshape(28,28))\n",
    "plt.show()\n",
    "print(labels[0])"
   ]
  },
  {
   "cell_type": "code",
   "execution_count": 95,
   "id": "715e061c-858c-4b97-b1e6-97b6571223cf",
   "metadata": {},
   "outputs": [
    {
     "name": "stdout",
     "output_type": "stream",
     "text": [
      "[[1.00000000e+00 6.22272491e-05 1.04000000e+00 1.07000000e+00\n",
      "  1.07000000e+00 1.12000000e+00 1.56000000e+00]\n",
      " [6.00000000e+00 7.39097595e-05 3.04000000e+00 5.04000000e+00\n",
      "  6.42000000e+00 7.14000000e+00 7.70000000e+00]\n",
      " [1.10000000e+01 1.22308731e-04 5.14000000e+00 7.54000000e+00\n",
      "  8.32000000e+00 8.67000000e+00 8.83000000e+00]\n",
      " [1.60000000e+01 2.69651413e-04 5.92000000e+00 8.38000000e+00\n",
      "  8.77000000e+00 8.95000000e+00 9.05000000e+00]\n",
      " [2.10000000e+01 2.95639038e-04 6.17000000e+00 8.42000000e+00\n",
      "  8.83000000e+00 8.99000000e+00 9.11000000e+00]\n",
      " [2.60000000e+01 3.16381454e-04 6.47000000e+00 8.60000000e+00\n",
      "  8.95000000e+00 9.10000000e+00 9.21000000e+00]\n",
      " [3.10000000e+01 3.34978104e-04 6.88000000e+00 8.65000000e+00\n",
      "  8.96000000e+00 9.09000000e+00 9.21000000e+00]\n",
      " [3.60000000e+01 3.53336334e-04 6.73000000e+00 8.59000000e+00\n",
      "  8.96000000e+00 9.15000000e+00 9.24000000e+00]\n",
      " [4.10000000e+01 5.36441803e-04 6.83000000e+00 8.71000000e+00\n",
      "  9.01000000e+00 9.17000000e+00 9.27000000e+00]\n",
      " [4.60000000e+01 7.68423080e-04 7.09000000e+00 8.80000000e+00\n",
      "  9.04000000e+00 9.18000000e+00 9.29000000e+00]\n",
      " [5.10000000e+01 5.22375107e-04 7.12000000e+00 8.72000000e+00\n",
      "  8.99000000e+00 9.14000000e+00 9.25000000e+00]\n",
      " [5.60000000e+01 4.43696976e-04 7.11000000e+00 8.71000000e+00\n",
      "  8.97000000e+00 9.13000000e+00 9.25000000e+00]\n",
      " [6.10000000e+01 4.69923019e-04 7.25000000e+00 8.78000000e+00\n",
      "  9.04000000e+00 9.17000000e+00 9.25000000e+00]\n",
      " [6.60000000e+01 5.06639481e-04 7.29000000e+00 8.84000000e+00\n",
      "  9.05000000e+00 9.18000000e+00 9.28000000e+00]\n",
      " [7.10000000e+01 5.57661057e-04 7.31000000e+00 8.76000000e+00\n",
      "  9.06000000e+00 9.20000000e+00 9.29000000e+00]\n",
      " [7.60000000e+01 5.39064407e-04 7.49000000e+00 8.83000000e+00\n",
      "  9.11000000e+00 9.23000000e+00 9.33000000e+00]\n",
      " [8.10000000e+01 5.55515289e-04 7.40000000e+00 8.79000000e+00\n",
      "  9.04000000e+00 9.19000000e+00 9.28000000e+00]\n",
      " [8.60000000e+01 5.96284866e-04 7.70000000e+00 8.88000000e+00\n",
      "  9.08000000e+00 9.19000000e+00 9.28000000e+00]\n",
      " [9.10000000e+01 4.82463837e-03 7.59000000e+00 8.85000000e+00\n",
      "  9.09000000e+00 9.23000000e+00 9.31000000e+00]\n",
      " [9.60000000e+01 6.13689423e-04 7.55000000e+00 8.89000000e+00\n",
      "  9.13000000e+00 9.27000000e+00 9.35000000e+00]\n",
      " [1.01000000e+02 6.53505325e-04 7.64000000e+00 8.88000000e+00\n",
      "  9.11000000e+00 9.24000000e+00 9.35000000e+00]\n",
      " [1.06000000e+02 1.33585930e-03 7.56000000e+00 8.91000000e+00\n",
      "  9.14000000e+00 9.26000000e+00 9.35000000e+00]\n",
      " [1.11000000e+02 6.71291351e-03 7.71000000e+00 8.90000000e+00\n",
      "  9.12000000e+00 9.27000000e+00 9.37000000e+00]\n",
      " [1.16000000e+02 7.04288483e-04 7.63000000e+00 8.92000000e+00\n",
      "  9.13000000e+00 9.28000000e+00 9.34000000e+00]\n",
      " [1.21000000e+02 7.44104385e-04 7.74000000e+00 8.91000000e+00\n",
      "  9.12000000e+00 9.26000000e+00 9.36000000e+00]\n",
      " [1.26000000e+02 7.46965408e-04 7.79000000e+00 8.90000000e+00\n",
      "  9.13000000e+00 9.27000000e+00 9.37000000e+00]\n",
      " [1.31000000e+02 7.70568848e-04 7.85000000e+00 8.91000000e+00\n",
      "  9.12000000e+00 9.26000000e+00 9.36000000e+00]\n",
      " [1.36000000e+02 8.09192657e-04 7.74000000e+00 8.91000000e+00\n",
      "  9.16000000e+00 9.29000000e+00 9.38000000e+00]\n",
      " [1.41000000e+02 8.12530518e-04 7.83000000e+00 8.94000000e+00\n",
      "  9.16000000e+00 9.30000000e+00 9.37000000e+00]\n",
      " [1.46000000e+02 9.50336456e-04 7.71000000e+00 8.91000000e+00\n",
      "  9.18000000e+00 9.30000000e+00 9.38000000e+00]\n",
      " [1.51000000e+02 8.78334045e-04 7.87000000e+00 8.96000000e+00\n",
      "  9.22000000e+00 9.34000000e+00 9.40000000e+00]\n",
      " [1.56000000e+02 9.83476639e-04 7.93000000e+00 8.96000000e+00\n",
      "  9.18000000e+00 9.29000000e+00 9.35000000e+00]\n",
      " [1.61000000e+02 9.00268555e-04 7.77000000e+00 8.97000000e+00\n",
      "  9.19000000e+00 9.30000000e+00 9.39000000e+00]\n",
      " [1.66000000e+02 9.55104828e-04 7.91000000e+00 8.95000000e+00\n",
      "  9.18000000e+00 9.31000000e+00 9.38000000e+00]\n",
      " [1.71000000e+02 9.48429108e-04 7.92000000e+00 9.03000000e+00\n",
      "  9.23000000e+00 9.35000000e+00 9.41000000e+00]\n",
      " [1.76000000e+02 9.57727432e-04 7.88000000e+00 8.93000000e+00\n",
      "  9.18000000e+00 9.30000000e+00 9.40000000e+00]\n",
      " [1.81000000e+02 1.40142441e-03 7.75000000e+00 8.96000000e+00\n",
      "  9.16000000e+00 9.30000000e+00 9.39000000e+00]\n",
      " [1.86000000e+02 9.60588455e-04 7.84000000e+00 9.00000000e+00\n",
      "  9.20000000e+00 9.32000000e+00 9.41000000e+00]\n",
      " [1.91000000e+02 1.38521194e-03 7.96000000e+00 8.99000000e+00\n",
      "  9.19000000e+00 9.30000000e+00 9.37000000e+00]\n",
      " [1.96000000e+02 1.06644630e-03 7.88000000e+00 8.98000000e+00\n",
      "  9.19000000e+00 9.32000000e+00 9.40000000e+00]]\n"
     ]
    }
   ],
   "source": [
    "itter = 5\n",
    "hidden_layers = np.arange(1,200,5)\n",
    "times = len(hidden_layers)\n",
    "data = np.zeros((times,itter+2))\n",
    "for layers, j in zip(hidden_layers,range(times)):\n",
    "    # weights of hiden layer\n",
    "    w_h = np.random.uniform(-0.5, 0.5, (layers, 784))\n",
    "    # weights of output layer\n",
    "    w_o =  np.random.uniform(-0.5, 0.5, (10, layers))\n",
    "    # bias of hiden layer\n",
    "    b_h = np.zeros((layers, 1))\n",
    "    # bias of output layer\n",
    "    b_o = np.zeros((10, 1))\n",
    "\n",
    "    learn_rate = 0.01\n",
    "    nr_correct = 0\n",
    "    \n",
    "    for i in range(itter):\n",
    "        for N in range(6000):\n",
    "            start_time = time.time()\n",
    "            \n",
    "            img = np.array(images[N],ndmin=2)\n",
    "            l = np.array(labels[N],ndmin=2)\n",
    "            l = np.transpose(l)\n",
    "            print(j,'/',times,end='\\r')\n",
    "            # Hidden\n",
    "            y_tmp = w_h @ np.transpose(img)+ b_h\n",
    "            y = 1 / (1 + np.exp(-y_tmp))\n",
    "\n",
    "            # Output\n",
    "            o_tmp = w_o @ y + b_o\n",
    "            o = 1 / (1 + np.exp(-o_tmp))\n",
    "\n",
    "            #Error\n",
    "            e = 1/len(o)*np.sum((o-l)**2)\n",
    "            nr_correct += int(np.argmax(o)==np.argmax(l))\n",
    "\n",
    "            # Backpropagation\n",
    "            delta_o = o-l\n",
    "            w_o += -learn_rate * delta_o @ np.transpose(y)\n",
    "            b_o += -learn_rate * delta_o\n",
    "\n",
    "            delta_h = np.transpose(w_o)@delta_o*y*(1-y)\n",
    "            w_h += -learn_rate * delta_h @ img\n",
    "            b_h += -learn_rate * delta_h\n",
    "\n",
    "        # Show accuracy for this epoch\n",
    "        acc = round((nr_correct / images.shape[0]) * 100, 2)\n",
    "        #print(f\"Acc: {acc}%\")\n",
    "        program_starts = time.time()\n",
    "        end_time = time.time()\n",
    "        data[j,0] = layers\n",
    "        data[j,1] = end_time - start_time\n",
    "        data[j,i+2] = acc\n",
    "        nr_correct = 0\n",
    "print(data)"
   ]
  },
  {
   "cell_type": "code",
   "execution_count": null,
   "id": "fdcc525b-4731-49e2-9759-d0f0adc08a38",
   "metadata": {},
   "outputs": [
    {
     "name": "stderr",
     "output_type": "stream",
     "text": [
      "/tmp/ipykernel_9732/781853373.py:38: RuntimeWarning: overflow encountered in exp\n",
      "  h = 1 / (1 + np.exp(-h_pre))\n"
     ]
    },
    {
     "name": "stdout",
     "output_type": "stream",
     "text": [
      "Acc: 9.2%\n",
      "Acc: 9.21%\n",
      "Acc: 9.21%\n",
      "Acc: 9.21%\n",
      "Enter a number (0 - 59999):  0\n"
     ]
    },
    {
     "name": "stderr",
     "output_type": "stream",
     "text": [
      "/tmp/ipykernel_9732/781853373.py:69: RuntimeWarning: overflow encountered in exp\n",
      "  h = 1 / (1 + np.exp(-h_pre))\n"
     ]
    },
    {
     "data": {
      "image/png": "[encoded data removed]",
      "text/plain": [
       "<Figure size 432x288 with 1 Axes>"
      ]
     },
     "metadata": {
      "needs_background": "light"
     },
     "output_type": "display_data"
    }
   ],
   "source": [
    "import numpy as np\n",
    "import matplotlib.pyplot as plt\n",
    "\n",
    "\n",
    "\"\"\"\n",
    "w = weights, b = bias, i = input, h = hidden, o = output, l = label\n",
    "e.g. w_i_h = weights from input layer to hidden layer\n",
    "\"\"\"\n",
    "\n",
    "from mnist import MNIST\n",
    "mndata = MNIST('./data')\n",
    "images, labels = mndata.load_training()\n",
    "images = np.array(images)\n",
    "labels = np.array(labels)\n",
    "\n",
    "# weights of i-h layer\n",
    "#w_i_h = np.random.uniform(-0.5, 0.5, (20, 784))\n",
    "w_i_h = np.zeros([20, 784])\n",
    "# weights of h-o layer\n",
    "w_h_o = np.random.uniform(-0.5, 0.5, (10, 20))\n",
    "# bias of h-o layer\n",
    "b_i_h = np.zeros((20, 1))\n",
    "# bias of h-o layer\n",
    "b_h_o = np.zeros((10, 1))\n",
    "\n",
    "learn_rate = 0.01\n",
    "nr_correct = 0\n",
    "\n",
    "epochs = 4\n",
    "for epoch in range(epochs):\n",
    "    for img, leb in zip(images, labels):\n",
    "        img.shape += (1,)\n",
    "        l = np.zeros((10,1))\n",
    "        l[leb]=1\n",
    "\n",
    "        # Forward propagation input -> hidden\n",
    "        h_pre = b_i_h + w_i_h @ img\n",
    "        h = 1 / (1 + np.exp(-h_pre))\n",
    "        # Forward propagation hidden -> output\n",
    "        o_pre = b_h_o + w_h_o @ h\n",
    "        o = 1 / (1 + np.exp(-o_pre))\n",
    "\n",
    "        # Cost / Error calculation\n",
    "        e = 1 / len(o) * np.sum((o - l) ** 2, axis=0)\n",
    "        nr_correct += int(np.argmax(o) == np.argmax(l))\n",
    "\n",
    "        # Backpropagation output -> hidden (cost function derivative)\n",
    "        delta_o = o - l\n",
    "        w_h_o += -learn_rate * delta_o @ np.transpose(h)\n",
    "        b_h_o += -learn_rate * delta_o\n",
    "        # Backpropagation hidden -> input (activation function derivative)\n",
    "        delta_h = np.transpose(w_h_o) @ delta_o * (h * (1 - h))\n",
    "        w_i_h += -learn_rate * delta_h @ np.transpose(img)\n",
    "        b_i_h += -learn_rate * delta_h\n",
    "\n",
    "    # Show accuracy for this epoch\n",
    "    print(f\"Acc: {round((nr_correct / images.shape[0]) * 100, 2)}%\")\n",
    "    nr_correct = 0\n",
    "\n",
    "# Show results\n",
    "while True:\n",
    "    index = int(input(\"Enter a number (0 - 59999): \"))\n",
    "    img = images[index]\n",
    "    plt.imshow(img.reshape(28, 28), cmap=\"Greys\")\n",
    "\n",
    "    img.shape += (1,)\n",
    "    # Forward propagation input -> hidden\n",
    "    h_pre = b_i_h + w_i_h @ img.reshape(784, 1)\n",
    "    h = 1 / (1 + np.exp(-h_pre))\n",
    "    # Forward propagation hidden -> output\n",
    "    o_pre = b_h_o + w_h_o @ h\n",
    "    o = 1 / (1 + np.exp(-o_pre))\n",
    "\n",
    "    plt.title(f\"Subscribe if its a {o.argmax()} :)\")\n",
    "    plt.show()\n"
   ]
  },
  {
   "cell_type": "code",
   "execution_count": null,
   "id": "0bcae9d9-8706-45d5-8433-d97bf70f874c",
   "metadata": {},
   "outputs": [],
   "source": []
  },
  {
   "cell_type": "code",
   "execution_count": null,
   "id": "8a7cf2db-e6cc-4993-9a25-c39d0b2a3893",
   "metadata": {},
   "outputs": [],
   "source": [
    "\"\"\"\n",
    "img = np.array([0,0.2,0.62,1,0.62],ndmin=2)\n",
    "wh  = np.array([[0.05,0.22,0.1,0.04,-0.08],\n",
    "        [0.15,-0.06,0.39,0.46,-0.12],\n",
    "        [0.29,0.03,0.07,0.43,-0.43],\n",
    "        [0.41,0.48,0.33,8.66,0.37]])\n",
    "\n",
    "bh  = np.zeros((4,1))\n",
    "wo  = np.array([[0.48,0.3,-0.04,0.28],\n",
    "        [-0.38,0.14,-0.36,0.44],\n",
    "        [0.02,-0.09,-0.24,0.27]])\n",
    "bo = np.zeros((3,1))\n",
    "\"\"\""
   ]
  }
 ],
 "metadata": {
  "kernelspec": {
   "display_name": "Python 3 (ipykernel)",
   "language": "python",
   "name": "python3"
  },
  "language_info": {
   "codemirror_mode": {
    "name": "ipython",
    "version": 3
   },
   "file_extension": ".py",
   "mimetype": "text/x-python",
   "name": "python",
   "nbconvert_exporter": "python",
   "pygments_lexer": "ipython3",
   "version": "3.10.6"
  },
  "vscode": {
   "interpreter": {
    "hash": "916dbcbb3f70747c44a77c7bcd40155683ae19c65e1c03b4aa3499c5328201f1"
   }
  }
 },
 "nbformat": 4,
 "nbformat_minor": 5
}
