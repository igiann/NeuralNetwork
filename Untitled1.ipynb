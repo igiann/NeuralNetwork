{
 "cells": [
  {
   "cell_type": "code",
   "execution_count": 6,
   "id": "2b53afb9",
   "metadata": {},
   "outputs": [],
   "source": [
    "import numpy as np\n",
    "import time\n",
    "import matplotlib.pyplot as plt"
   ]
  },
  {
   "cell_type": "code",
   "execution_count": 7,
   "id": "2b85b41d",
   "metadata": {},
   "outputs": [],
   "source": [
    "from mnist import MNIST\n",
    "mndata = MNIST('./data')\n",
    "images, labels = mndata.load_training()\n",
    "images = np.array(images)\n",
    "images = images.astype(\"float32\") / 255\n",
    "labels = np.eye(10)[labels]\n",
    "\n",
    "[n,m] = images.shape\n",
    "layers = 5"
   ]
  },
  {
   "cell_type": "code",
   "execution_count": 8,
   "id": "5b02d929",
   "metadata": {},
   "outputs": [],
   "source": [
    "# weights of hiden layer\n",
    "w_h = np.random.uniform(-0.5, 0.5, (layers, 784))\n",
    "# weights of output layer\n",
    "w_o =  np.random.uniform(-0.5, 0.5, (10, layers))\n",
    "# bias of hiden layer\n",
    "b_h = np.zeros((layers, 1))\n",
    "# bias of output layer\n",
    "b_o = np.zeros((10, 1))"
   ]
  },
  {
   "cell_type": "code",
   "execution_count": 13,
   "id": "1ec12bd3",
   "metadata": {},
   "outputs": [
    {
     "name": "stdout",
     "output_type": "stream",
     "text": [
      "86.91\n",
      "86.98\n",
      "87.02\n",
      "87.04\n",
      "87.08\n"
     ]
    }
   ],
   "source": [
    "learn_rate = 0.01\n",
    "nr_correct = 0\n",
    "itter = 5\n",
    "for i in range(itter):\n",
    "    for N in range(n):\n",
    "        start_time = time.time()\n",
    "\n",
    "        img = np.array(images[N],ndmin=2)\n",
    "        l = np.array(labels[N],ndmin=2)\n",
    "        l = np.transpose(l)\n",
    "\n",
    "        # Hidden\n",
    "        y_tmp = w_h @ np.transpose(img)+ b_h\n",
    "        y = 1 / (1 + np.exp(-y_tmp))\n",
    "\n",
    "        # Output\n",
    "        o_tmp = w_o @ y + b_o\n",
    "        o = 1 / (1 + np.exp(-o_tmp))\n",
    "\n",
    "        #Error\n",
    "        #e = 1/len(o)*np.sum((o-l)**2)\n",
    "        nr_correct += int(np.argmax(o)==np.argmax(l))\n",
    "\n",
    "        # Backpropagation\n",
    "        delta_o = o-l\n",
    "        w_o += -learn_rate * delta_o @ np.transpose(y)\n",
    "        b_o += -learn_rate * delta_o\n",
    "\n",
    "        delta_h = np.transpose(w_o)@delta_o*y*(1-y)\n",
    "        w_h += -learn_rate * delta_h @ img\n",
    "        b_h += -learn_rate * delta_h\n",
    "    acc = round((nr_correct / images.shape[0]) * 100, 2)\n",
    "    print(acc)\n",
    "    nr_correct = 0"
   ]
  },
  {
   "cell_type": "code",
   "execution_count": null,
   "id": "b4c79a81",
   "metadata": {},
   "outputs": [],
   "source": []
  }
 ],
 "metadata": {
  "kernelspec": {
   "display_name": "Python 3 (ipykernel)",
   "language": "python",
   "name": "python3"
  },
  "language_info": {
   "codemirror_mode": {
    "name": "ipython",
    "version": 3
   },
   "file_extension": ".py",
   "mimetype": "text/x-python",
   "name": "python",
   "nbconvert_exporter": "python",
   "pygments_lexer": "ipython3",
   "version": "3.8.10"
  }
 },
 "nbformat": 4,
 "nbformat_minor": 5
}
