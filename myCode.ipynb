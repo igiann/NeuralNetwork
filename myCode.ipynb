{
 "cells": [
  {
   "cell_type": "code",
   "execution_count": 1,
   "id": "4e275465-0f49-46eb-8876-a4c0cdf734d5",
   "metadata": {},
   "outputs": [],
   "source": [
    "import numpy as np\n",
    "import matplotlib.pyplot as plt"
   ]
  },
  {
   "cell_type": "code",
   "execution_count": 2,
   "id": "e71d6b79-9a81-4d2b-a8d4-e794143001cb",
   "metadata": {},
   "outputs": [
    {
     "name": "stdout",
     "output_type": "stream",
     "text": [
      "60000\n"
     ]
    }
   ],
   "source": [
    "from mnist import MNIST\n",
    "mndata = MNIST('./data')\n",
    "images, labels = mndata.load_training()\n",
    "images = np.array(images)\n",
    "labels = np.array(labels)\n",
    "[n,m] = images.shape\n",
    "print(n)"
   ]
  },
  {
   "cell_type": "code",
   "execution_count": 21,
   "id": "9fb8d0a3-cd35-4194-bba4-50aef822bdba",
   "metadata": {},
   "outputs": [
    {
     "name": "stdout",
     "output_type": "stream",
     "text": [
      "(1, 784)\n"
     ]
    },
    {
     "data": {
      "image/png": "[encoded data removed]",
      "text/plain": [
       "<Figure size 432x288 with 1 Axes>"
      ]
     },
     "metadata": {
      "needs_background": "light"
     },
     "output_type": "display_data"
    },
    {
     "data": {
      "text/plain": [
       "5"
      ]
     },
     "execution_count": 21,
     "metadata": {},
     "output_type": "execute_result"
    }
   ],
   "source": [
    "print(np.shape(np.array([images[0]])))\n",
    "plt.imshow(images[0].reshape(28, 28), cmap='gray', vmin=0, vmax=255)\n",
    "plt.show()\n",
    "labels[0]\n"
   ]
  },
  {
   "cell_type": "code",
   "execution_count": 22,
   "id": "06da524e-b28b-4453-ba2b-4605c3825d8c",
   "metadata": {},
   "outputs": [],
   "source": [
    "# weights of hiden layer\n",
    "w_h = 0.5*np.ones((20, 784))\n",
    "\n",
    "# weights of output layer\n",
    "w_o = 0.5*np.ones((10, 20))\n",
    "\n",
    "# bias of hiden layer\n",
    "b_h = np.zeros((20, 1))\n",
    "\n",
    "# bias of output layer\n",
    "b_o = np.zeros((10, 1))\n",
    "\n",
    "learn_rate = 0.01\n",
    "nr_correct = 0"
   ]
  },
  {
   "cell_type": "code",
   "execution_count": 28,
   "id": "5019de92",
   "metadata": {},
   "outputs": [
    {
     "ename": "NameError",
     "evalue": "name 'wh' is not defined",
     "output_type": "error",
     "traceback": [
      "\u001b[0;31m---------------------------------------------------------------------------\u001b[0m",
      "\u001b[0;31mNameError\u001b[0m                                 Traceback (most recent call last)",
      "Input \u001b[0;32mIn [28]\u001b[0m, in \u001b[0;36m<cell line: 3>\u001b[0;34m()\u001b[0m\n\u001b[1;32m      1\u001b[0m N\u001b[38;5;241m=\u001b[39m\u001b[38;5;241m0\u001b[39m\n\u001b[1;32m      2\u001b[0m img \u001b[38;5;241m=\u001b[39m np\u001b[38;5;241m.\u001b[39marray(images[N],ndmin\u001b[38;5;241m=\u001b[39m\u001b[38;5;241m2\u001b[39m)\n\u001b[0;32m----> 3\u001b[0m h_temp  \u001b[38;5;241m=\u001b[39m np\u001b[38;5;241m.\u001b[39mdot(\u001b[43mwh\u001b[49m,img\u001b[38;5;241m.\u001b[39mT)\n",
      "\u001b[0;31mNameError\u001b[0m: name 'wh' is not defined"
     ]
    }
   ],
   "source": [
    "N=0\n",
    "img = np.array(images[N],ndmin=2)\n",
    "h_temp  = np.dot(wh,img.T)"
   ]
  },
  {
   "cell_type": "code",
   "execution_count": 66,
   "id": "9a2a0766-4ef7-4bff-954e-4b924c0ba9c1",
   "metadata": {},
   "outputs": [],
   "source": [
    "# This is a column of 784 elemnts, the pixels of the figure\n",
    "for N in range(n):\n",
    "    img = np.array(images[N],ndmin=2)\n",
    "    l = np.zeros((10,1))\n",
    "    l[labels[N]]=1\n",
    "    # Forward propagation input -> hidden\n",
    "    h_pre = b_h + w_h @ np.transpose(img)\n",
    "    h = 1 / (1 + np.exp(-h_pre))\n",
    "    # Forward propagation hidden -> output\n",
    "    o_pre = b_o + w_o @ h\n",
    "    o = 1 / (1 + np.exp(-o_pre))\n",
    "    # Cost / Error calculation\n",
    "    e = 1 / len(o) * np.sum((o - l) ** 2, axis=0)\n",
    "    nr_correct += int(np.argmax(o) == np.argmax(l))\n",
    "\n",
    "    # Backpropagation output -> hidden (cost function derivative)\n",
    "    delta_o = o - l\n",
    "\n",
    "    w_o += -learn_rate * delta_o @ np.transpose(h)\n",
    "    b_o += -learn_rate * delta_o\n",
    "    # Backpropagation hidden -> input (activation function derivative)\n",
    "    delta_h = np.transpose(w_o) @ delta_o *(h * (1 - h))\n",
    "    w_h += -learn_rate * delta_h @ img\n",
    "    b_h += -learn_rate * delta_h"
   ]
  },
  {
   "cell_type": "code",
   "execution_count": 59,
   "id": "c60cec12-1880-450b-80d0-d6b9f3554226",
   "metadata": {},
   "outputs": [
    {
     "name": "stdout",
     "output_type": "stream",
     "text": [
      "[[-0.06237763]\n",
      " [-0.0520995 ]\n",
      " [-0.05113673]\n",
      " [-0.04716524]\n",
      " [-0.06755097]\n",
      " [-0.58467119]\n",
      " [-0.03978857]\n",
      " [-0.06043867]\n",
      " [-0.04102651]\n",
      " [-0.05008771]]\n"
     ]
    }
   ],
   "source": [
    "print(b_o)"
   ]
  },
  {
   "cell_type": "code",
   "execution_count": 61,
   "id": "e58678d5-d8bf-426f-8f9d-2a9c0fbd5b4b",
   "metadata": {},
   "outputs": [
    {
     "name": "stdout",
     "output_type": "stream",
     "text": [
      "Acc: 0.0%\n"
     ]
    }
   ],
   "source": [
    "# Show accuracy for this epoch\n",
    "print(f\"Acc: {round((nr_correct / images.shape[0]) * 100, 2)}%\")\n",
    "nr_correct = 0"
   ]
  },
  {
   "cell_type": "code",
   "execution_count": null,
   "id": "4f9de738-3b9b-4b29-afee-001f7c3cef0f",
   "metadata": {},
   "outputs": [],
   "source": []
  },
  {
   "cell_type": "code",
   "execution_count": 36,
   "id": "4b9a4979-8a08-4132-bf20-1d0458a2f800",
   "metadata": {},
   "outputs": [
    {
     "ename": "ValueError",
     "evalue": "shapes (4,3) and (1,3) not aligned: 3 (dim 1) != 1 (dim 0)",
     "output_type": "error",
     "traceback": [
      "\u001b[0;31m---------------------------------------------------------------------------\u001b[0m",
      "\u001b[0;31mValueError\u001b[0m                                Traceback (most recent call last)",
      "\u001b[0;32m/tmp/ipykernel_3521/2182186048.py\u001b[0m in \u001b[0;36m<module>\u001b[0;34m\u001b[0m\n\u001b[1;32m     30\u001b[0m \u001b[0mbh\u001b[0m \u001b[0;34m=\u001b[0m \u001b[0;34m-\u001b[0m\u001b[0mlearn_rate\u001b[0m\u001b[0;34m*\u001b[0m\u001b[0mdelta_o\u001b[0m\u001b[0;34m\u001b[0m\u001b[0;34m\u001b[0m\u001b[0m\n\u001b[1;32m     31\u001b[0m \u001b[0;31m#delta_h=np.transpose(wo)*delta_o*np.multiply(h,(1-h))\u001b[0m\u001b[0;34m\u001b[0m\u001b[0;34m\u001b[0m\u001b[0m\n\u001b[0;32m---> 32\u001b[0;31m \u001b[0mprint\u001b[0m\u001b[0;34m(\u001b[0m\u001b[0mnp\u001b[0m\u001b[0;34m.\u001b[0m\u001b[0mtranspose\u001b[0m\u001b[0;34m(\u001b[0m\u001b[0mwo\u001b[0m\u001b[0;34m)\u001b[0m\u001b[0;34m*\u001b[0m\u001b[0mdelta_o\u001b[0m\u001b[0;34m)\u001b[0m\u001b[0;34m\u001b[0m\u001b[0;34m\u001b[0m\u001b[0m\n\u001b[0m",
      "\u001b[0;32m/usr/lib/python3/dist-packages/numpy/matrixlib/defmatrix.py\u001b[0m in \u001b[0;36m__mul__\u001b[0;34m(self, other)\u001b[0m\n\u001b[1;32m    216\u001b[0m         \u001b[0;32mif\u001b[0m \u001b[0misinstance\u001b[0m\u001b[0;34m(\u001b[0m\u001b[0mother\u001b[0m\u001b[0;34m,\u001b[0m \u001b[0;34m(\u001b[0m\u001b[0mN\u001b[0m\u001b[0;34m.\u001b[0m\u001b[0mndarray\u001b[0m\u001b[0;34m,\u001b[0m \u001b[0mlist\u001b[0m\u001b[0;34m,\u001b[0m \u001b[0mtuple\u001b[0m\u001b[0;34m)\u001b[0m\u001b[0;34m)\u001b[0m \u001b[0;34m:\u001b[0m\u001b[0;34m\u001b[0m\u001b[0;34m\u001b[0m\u001b[0m\n\u001b[1;32m    217\u001b[0m             \u001b[0;31m# This promotes 1-D vectors to row vectors\u001b[0m\u001b[0;34m\u001b[0m\u001b[0;34m\u001b[0m\u001b[0m\n\u001b[0;32m--> 218\u001b[0;31m             \u001b[0;32mreturn\u001b[0m \u001b[0mN\u001b[0m\u001b[0;34m.\u001b[0m\u001b[0mdot\u001b[0m\u001b[0;34m(\u001b[0m\u001b[0mself\u001b[0m\u001b[0;34m,\u001b[0m \u001b[0masmatrix\u001b[0m\u001b[0;34m(\u001b[0m\u001b[0mother\u001b[0m\u001b[0;34m)\u001b[0m\u001b[0;34m)\u001b[0m\u001b[0;34m\u001b[0m\u001b[0;34m\u001b[0m\u001b[0m\n\u001b[0m\u001b[1;32m    219\u001b[0m         \u001b[0;32mif\u001b[0m \u001b[0misscalar\u001b[0m\u001b[0;34m(\u001b[0m\u001b[0mother\u001b[0m\u001b[0;34m)\u001b[0m \u001b[0;32mor\u001b[0m \u001b[0;32mnot\u001b[0m \u001b[0mhasattr\u001b[0m\u001b[0;34m(\u001b[0m\u001b[0mother\u001b[0m\u001b[0;34m,\u001b[0m \u001b[0;34m'__rmul__'\u001b[0m\u001b[0;34m)\u001b[0m \u001b[0;34m:\u001b[0m\u001b[0;34m\u001b[0m\u001b[0;34m\u001b[0m\u001b[0m\n\u001b[1;32m    220\u001b[0m             \u001b[0;32mreturn\u001b[0m \u001b[0mN\u001b[0m\u001b[0;34m.\u001b[0m\u001b[0mdot\u001b[0m\u001b[0;34m(\u001b[0m\u001b[0mself\u001b[0m\u001b[0;34m,\u001b[0m \u001b[0mother\u001b[0m\u001b[0;34m)\u001b[0m\u001b[0;34m\u001b[0m\u001b[0;34m\u001b[0m\u001b[0m\n",
      "\u001b[0;32m<__array_function__ internals>\u001b[0m in \u001b[0;36mdot\u001b[0;34m(*args, **kwargs)\u001b[0m\n",
      "\u001b[0;31mValueError\u001b[0m: shapes (4,3) and (1,3) not aligned: 3 (dim 1) != 1 (dim 0)"
     ]
    }
   ],
   "source": [
    "#h_pre = b_i_h + np.dot(w_i_h,img)\n",
    "learn_rate = 0.01\n",
    "\n",
    "img  = [0,0.2,0.62,1,0.62]\n",
    "wh   = [[0.05,0.22,0.1,0.04,-0.08],\n",
    "        [0.15,-0.06,0.39,0.46,-0.12],\n",
    "        [0.29,0.03,0.07,0.43,-0.43],\n",
    "        [0.41,0.48,0.33,8.66,0.37]]\n",
    "\n",
    "bh = [0,0,0]\n",
    "wo   = [[0.48,0.3,-0.04,0.28],\n",
    "        [-0.38,0.14,-0.36,0.44],\n",
    "        [0.02,-0.09,-0.24,0.27]]\n",
    "bo = [0,0,0]\n",
    "\n",
    "h_pre = np.dot(wh,img)\n",
    "h = 1 / (1 + np.exp(-h_pre))\n",
    "o_pre = np.dot(wo,h)\n",
    "o = 1 / (1 + np.exp(-o_pre))\n",
    "l = np.array([1, 0, 0])\n",
    "# Cost\n",
    "e = 1 / len(o) * np.sum((o - l) ** 2)\n",
    "# Βρισκει το υψηλότερο από αυτά και υπολογίζει ανα εκανε λαθος\n",
    "#nr_correct += int(np.argmax(o) == np.argmax(l))\n",
    "\n",
    "h =np.asmatrix([0.1, 0.62, 0.21, 0.62])\n",
    "# Back propagation\n",
    "\n"
   ]
  },
  {
   "cell_type": "code",
   "execution_count": 14,
   "id": "06fd9daf-97bc-4648-9214-c0a7dd2e02b6",
   "metadata": {},
   "outputs": [
    {
     "ename": "NameError",
     "evalue": "name 'l' is not defined",
     "output_type": "error",
     "traceback": [
      "\u001b[0;31m---------------------------------------------------------------------------\u001b[0m",
      "\u001b[0;31mNameError\u001b[0m                                 Traceback (most recent call last)",
      "Input \u001b[0;32mIn [14]\u001b[0m, in \u001b[0;36m<cell line: 1>\u001b[0;34m()\u001b[0m\n\u001b[0;32m----> 1\u001b[0m \u001b[38;5;28mprint\u001b[39m(\u001b[43ml\u001b[49m)\n",
      "\u001b[0;31mNameError\u001b[0m: name 'l' is not defined"
     ]
    }
   ],
   "source": [
    "print(l)"
   ]
  },
  {
   "cell_type": "markdown",
   "id": "493e396b-b887-4b11-94ff-f5a3c6ea2365",
   "metadata": {},
   "source": []
  },
  {
   "cell_type": "code",
   "execution_count": 9,
   "id": "4e33dd86-4179-4b7c-b601-559555aba767",
   "metadata": {},
   "outputs": [
    {
     "ename": "AttributeError",
     "evalue": "attribute 'shape' of 'numpy.generic' objects is not writable",
     "output_type": "error",
     "traceback": [
      "\u001b[0;31m---------------------------------------------------------------------------\u001b[0m",
      "\u001b[0;31mAttributeError\u001b[0m                            Traceback (most recent call last)",
      "\u001b[0;32m/tmp/ipykernel_3521/3800102233.py\u001b[0m in \u001b[0;36m<module>\u001b[0;34m\u001b[0m\n\u001b[1;32m      6\u001b[0m     \u001b[0;32mfor\u001b[0m \u001b[0mimg\u001b[0m\u001b[0;34m,\u001b[0m \u001b[0ml\u001b[0m \u001b[0;32min\u001b[0m \u001b[0mzip\u001b[0m\u001b[0;34m(\u001b[0m\u001b[0mimages\u001b[0m\u001b[0;34m,\u001b[0m \u001b[0mlabels\u001b[0m\u001b[0;34m)\u001b[0m\u001b[0;34m:\u001b[0m\u001b[0;34m\u001b[0m\u001b[0;34m\u001b[0m\u001b[0m\n\u001b[1;32m      7\u001b[0m         \u001b[0mimg\u001b[0m\u001b[0;34m.\u001b[0m\u001b[0mshape\u001b[0m \u001b[0;34m+=\u001b[0m \u001b[0;34m(\u001b[0m\u001b[0;36m1\u001b[0m\u001b[0;34m,\u001b[0m\u001b[0;34m)\u001b[0m\u001b[0;34m\u001b[0m\u001b[0;34m\u001b[0m\u001b[0m\n\u001b[0;32m----> 8\u001b[0;31m         \u001b[0ml\u001b[0m\u001b[0;34m.\u001b[0m\u001b[0mshape\u001b[0m \u001b[0;34m+=\u001b[0m \u001b[0;34m(\u001b[0m\u001b[0;36m1\u001b[0m\u001b[0;34m,\u001b[0m\u001b[0;34m)\u001b[0m\u001b[0;34m\u001b[0m\u001b[0;34m\u001b[0m\u001b[0m\n\u001b[0m\u001b[1;32m      9\u001b[0m         \u001b[0;31m# Forward propagation input -> hidden\u001b[0m\u001b[0;34m\u001b[0m\u001b[0;34m\u001b[0m\u001b[0m\n\u001b[1;32m     10\u001b[0m         \u001b[0mh_pre\u001b[0m \u001b[0;34m=\u001b[0m \u001b[0mb_i_h\u001b[0m \u001b[0;34m+\u001b[0m \u001b[0mw_i_h\u001b[0m \u001b[0;34m@\u001b[0m \u001b[0mimg\u001b[0m\u001b[0;34m\u001b[0m\u001b[0;34m\u001b[0m\u001b[0m\n",
      "\u001b[0;31mAttributeError\u001b[0m: attribute 'shape' of 'numpy.generic' objects is not writable"
     ]
    }
   ],
   "source": [
    "learn_rate = 0.01\n",
    "nr_correct = 0\n",
    "\n",
    "for img, l in zip(images, labels):\n",
    "    img.shape += (1,)\n",
    "    l.shape += (1,)\n",
    "    # Forward propagation input -> hidden\n",
    "    h_pre = b_i_h + w_i_h @ img\n",
    "    h = 1 / (1 + np.exp(-h_pre))\n",
    "    # Forward propagation hidden -> output\n",
    "    o_pre = b_h_o + w_h_o @ h\n",
    "    o = 1 / (1 + np.exp(-o_pre))\n",
    "\n",
    "    # Cost / Error calculation\n",
    "    e = 1 / len(o) * np.sum((o - l) ** 2, axis=0)\n",
    "    nr_correct += int(np.argmax(o) == np.argmax(l))\n",
    "\n",
    "    # Backpropagation output -> hidden (cost function derivative)\n",
    "    delta_o = o - l\n",
    "    w_h_o += -learn_rate * delta_o @ np.transpose(h)\n",
    "    b_h_o += -learn_rate * delta_o\n",
    "    # Backpropagation hidden -> input (activation function derivative)\n",
    "    delta_h = np.transpose(w_h_o) @ delta_o * (h * (1 - h))\n",
    "    w_i_h += -learn_rate * delta_h @ np.transpose(img)\n",
    "    b_i_h += -learn_rate * delta_h\n",
    "\n",
    "# Show accuracy for this epoch\n",
    "print(f\"Acc: {round((nr_correct / images.shape[0]) * 100, 2)}%\")\n",
    "nr_correct = 0"
   ]
  },
  {
   "cell_type": "code",
   "execution_count": 10,
   "id": "1e50450b-7de3-4bf9-94c2-6b035e7f7dc6",
   "metadata": {},
   "outputs": [
    {
     "data": {
      "text/plain": [
       "<matplotlib.image.AxesImage at 0x7fabd8468b20>"
      ]
     },
     "execution_count": 10,
     "metadata": {},
     "output_type": "execute_result"
    },
    {
     "data": {
      "image/png": "[encoded data removed]",
      "text/plain": [
       "<Figure size 432x288 with 1 Axes>"
      ]
     },
     "metadata": {
      "needs_background": "light"
     },
     "output_type": "display_data"
    }
   ],
   "source": [
    "img = images[2]\n",
    "plt.imshow(img.reshape(28, 28), cmap=\"Greys\")"
   ]
  },
  {
   "cell_type": "code",
   "execution_count": null,
   "id": "db3b6102-33fa-4804-8885-340dac01f805",
   "metadata": {},
   "outputs": [],
   "source": []
  },
  {
   "cell_type": "code",
   "execution_count": 174,
   "id": "3274a4a0-540f-4527-a716-d1413e6a6f6d",
   "metadata": {},
   "outputs": [
    {
     "name": "stdout",
     "output_type": "stream",
     "text": [
      "(10,)\n"
     ]
    }
   ],
   "source": [
    "x  = np.arange(10)\n",
    "print(x.shape) "
   ]
  },
  {
   "cell_type": "code",
   "execution_count": 202,
   "id": "2aeac4fd-72c0-49af-89b1-f13e7afcc48d",
   "metadata": {},
   "outputs": [
    {
     "ename": "ValueError",
     "evalue": "matmul: Input operand 1 has a mismatch in its core dimension 0, with gufunc signature (n?,k),(k,m?)->(n?,m?) (size 5 is different from 784)",
     "output_type": "error",
     "traceback": [
      "\u001b[0;31m---------------------------------------------------------------------------\u001b[0m",
      "\u001b[0;31mValueError\u001b[0m                                Traceback (most recent call last)",
      "\u001b[0;32m/tmp/ipykernel_13886/769112437.py\u001b[0m in \u001b[0;36m<module>\u001b[0;34m\u001b[0m\n\u001b[1;32m      9\u001b[0m \u001b[0;34m\u001b[0m\u001b[0m\n\u001b[1;32m     10\u001b[0m \u001b[0;31m# Forward propagation input -> hidden\u001b[0m\u001b[0;34m\u001b[0m\u001b[0;34m\u001b[0m\u001b[0m\n\u001b[0;32m---> 11\u001b[0;31m \u001b[0mh_pre\u001b[0m \u001b[0;34m=\u001b[0m \u001b[0mb_i_h\u001b[0m \u001b[0;34m+\u001b[0m \u001b[0mw_i_h\u001b[0m \u001b[0;34m@\u001b[0m \u001b[0mimg\u001b[0m\u001b[0;34m\u001b[0m\u001b[0;34m\u001b[0m\u001b[0m\n\u001b[0m\u001b[1;32m     12\u001b[0m \u001b[0mh\u001b[0m \u001b[0;34m=\u001b[0m \u001b[0;36m1\u001b[0m \u001b[0;34m/\u001b[0m \u001b[0;34m(\u001b[0m\u001b[0;36m1\u001b[0m \u001b[0;34m+\u001b[0m \u001b[0mnp\u001b[0m\u001b[0;34m.\u001b[0m\u001b[0mexp\u001b[0m\u001b[0;34m(\u001b[0m\u001b[0;34m-\u001b[0m\u001b[0mh_pre\u001b[0m\u001b[0;34m)\u001b[0m\u001b[0;34m)\u001b[0m\u001b[0;34m\u001b[0m\u001b[0;34m\u001b[0m\u001b[0m\n\u001b[1;32m     13\u001b[0m \u001b[0;31m# Forward propagation hidden -> output\u001b[0m\u001b[0;34m\u001b[0m\u001b[0;34m\u001b[0m\u001b[0m\n",
      "\u001b[0;31mValueError\u001b[0m: matmul: Input operand 1 has a mismatch in its core dimension 0, with gufunc signature (n?,k),(k,m?)->(n?,m?) (size 5 is different from 784)"
     ]
    }
   ],
   "source": [
    "img  = [0,0.2,0.62,1,0.62]\n",
    "wh   = [[0.05,0.22,0.1,0.04,-0.08],\n",
    "        [0.15,-0.06,0.39,0.46,-0.12],\n",
    "        [0.29,0.03,0.07,0.43,-0.43],\n",
    "        [0.41,0.48,0.33,8.66,0.37]]\n",
    "wo   = [[0.48,0.3,-0.04,0.28],\n",
    "        [-0.38,0.14,-0.36,0.44],\n",
    "        [0.02,-0.09,-0.24,0.27]]\n",
    "\n",
    "# Forward propagation input -> hidden\n",
    "h_pre = b_i_h + w_i_h @ img\n",
    "h = 1 / (1 + np.exp(-h_pre))\n",
    "# Forward propagation hidden -> output\n",
    "o_pre = b_h_o + w_h_o @ h\n",
    "o = 1 / (1 + np.exp(-o_pre))\n",
    "\n",
    "# Cost / Error calculation\n",
    "e = 1 / len(o) * np.sum((o - l) ** 2, axis=0)\n",
    "nr_correct += int(np.argmax(o) == np.argmax(l))\n",
    "\n",
    "# Backpropagation output -> hidden (cost function derivative)\n",
    "delta_o = o - l\n",
    "w_h_o += -learn_rate * delta_o @ np.transpose(h)\n",
    "b_h_o += -learn_rate * delta_o\n",
    "# Backpropagation hidden -> input (activation function derivative)\n",
    "delta_h = np.transpose(w_h_o) @ delta_o * (h * (1 - h))\n",
    "w_i_h += -learn_rate * delta_h @ np.transpose(img)\n",
    "b_i_h += -learn_rate * delta_h"
   ]
  },
  {
   "cell_type": "code",
   "execution_count": null,
   "id": "0c3feecb-ec3d-408f-ba25-dbcdd7dfdeb8",
   "metadata": {},
   "outputs": [],
   "source": []
  }
 ],
 "metadata": {
  "kernelspec": {
   "display_name": "Python 3 (ipykernel)",
   "language": "python",
   "name": "python3"
  },
  "language_info": {
   "codemirror_mode": {
    "name": "ipython",
    "version": 3
   },
   "file_extension": ".py",
   "mimetype": "text/x-python",
   "name": "python",
   "nbconvert_exporter": "python",
   "pygments_lexer": "ipython3",
   "version": "3.10.12"
  }
 },
 "nbformat": 4,
 "nbformat_minor": 5
}
